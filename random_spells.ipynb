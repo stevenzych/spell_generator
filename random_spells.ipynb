{
 "cells": [
  {
   "cell_type": "markdown",
   "metadata": {},
   "source": [
    "# Intro"
   ]
  },
  {
   "cell_type": "markdown",
   "metadata": {},
   "source": [
    "***Notebook in progress.***\n",
    "\n",
    "This notebook creates some basic functions for generating weird spells for Dungeons and Dragons. The basic functions build throughout the notebook to a larger generator with much more modularity at the end."
   ]
  },
  {
   "cell_type": "markdown",
   "metadata": {},
   "source": [
    "## Imports"
   ]
  },
  {
   "cell_type": "code",
   "execution_count": 18,
   "metadata": {},
   "outputs": [],
   "source": [
    "import numpy as np\n",
    "from numpy.random import choice as nrc\n",
    "import pandas as pd"
   ]
  },
  {
   "cell_type": "markdown",
   "metadata": {},
   "source": [
    "# Making Things Up"
   ]
  },
  {
   "cell_type": "markdown",
   "metadata": {},
   "source": [
    "Here we make some lists of stuff to randomly pull from. Schools of magic, types of damage, different fun groups of words to generate from, etc."
   ]
  },
  {
   "cell_type": "code",
   "execution_count": 2,
   "metadata": {},
   "outputs": [],
   "source": [
    "schools = ['abjuration', 'conjuration', 'divination', 'enchantment',\n",
    "           'evocation', 'illusion', 'necromancy', 'psionics', 'transmutation']"
   ]
  },
  {
   "cell_type": "code",
   "execution_count": 3,
   "metadata": {},
   "outputs": [],
   "source": [
    "# The damage types ['earth', 'water', 'wind'] are used in my home game\n",
    "# and have been added to this list.\n",
    "\n",
    "damage_types = ['acid', 'bludgeoning', 'cold', 'earth', 'fire', 'force',\n",
    "                'lightning', 'necrotic', 'piercing', 'poison', 'psychic',\n",
    "                'radiant', 'slashing', 'thunder', 'water', 'wind']"
   ]
  },
  {
   "cell_type": "code",
   "execution_count": 4,
   "metadata": {},
   "outputs": [],
   "source": [
    "body_parts = ['ankle', 'arm', 'artery', 'beard', 'belly', 'body', 'bone',\n",
    "              'bowels', 'brain', 'bladder', 'chin', 'calf', 'chest',\n",
    "              'cheek', 'clavicle', 'ear', 'eye', 'eyebrow', 'eyelid',\n",
    "              'face', 'finger', 'fingernail', 'foot', 'groin', 'gums',\n",
    "              'hair', 'hand', 'head', 'heart', 'horns', 'iris', 'intestines',\n",
    "              'jaw', 'jowels', 'kneecap', 'leg', 'liver', 'lungs',\n",
    "              'lymph node', 'molars', 'mouth', 'muscle', 'ovary', 'palm',\n",
    "              'pelvis', 'red blood cells', 'retina', 'ribs',\n",
    "              'scalp', 'shin', 'skeleton', 'skull', 'spine', 'spleen',\n",
    "              'stomach', 'teeth', 'thorax', 'throat', 'tongue', 'tonsils',\n",
    "              'uterus', 'white blood cells']"
   ]
  },
  {
   "cell_type": "code",
   "execution_count": 5,
   "metadata": {},
   "outputs": [],
   "source": [
    "stats = ['charisma', 'constitution', 'dexterity', 'intelligence', 'strength',\n",
    "         'wisdom']"
   ]
  },
  {
   "cell_type": "code",
   "execution_count": 6,
   "metadata": {},
   "outputs": [],
   "source": [
    "shapes = ['ball', 'beam', 'cone', 'cube', 'cylinder', 'disc', 'donut',\n",
    "          'line', 'ray', 'ring', 'sphere', 'wall']"
   ]
  },
  {
   "cell_type": "code",
   "execution_count": 38,
   "metadata": {},
   "outputs": [],
   "source": [
    "evoc_verbs = ['blast', 'call forth', 'conjure', 'create', 'demand', 'evoke',\n",
    "              'launch', 'shoot', 'summon']\n",
    "trans_verbs = ['change', 'switch', 'transmute', 'turn']"
   ]
  },
  {
   "cell_type": "code",
   "execution_count": 8,
   "metadata": {},
   "outputs": [],
   "source": [
    "dice = ['d4', 'd6', 'd8', 'd10', 'd12', 'd20']"
   ]
  },
  {
   "cell_type": "markdown",
   "metadata": {},
   "source": [
    "## Importing Spell Components"
   ]
  },
  {
   "cell_type": "markdown",
   "metadata": {},
   "source": [
    "This kindly [Reddit user](https://www.reddit.com/user/hillermylife) put together a [spreadsheet](https://docs.google.com/spreadsheets/d/1KSibOeWub0_f79GYSnMu7om8kWwog1ob8dRY9LLoDAE/edit#gid=0) with all the D&D 5E spell components on it. I'm importing that from a `.csv` with Pandas and storing the components as a list."
   ]
  },
  {
   "cell_type": "code",
   "execution_count": 21,
   "metadata": {},
   "outputs": [
    {
     "data": {
      "text/html": [
       "<div>\n",
       "<style scoped>\n",
       "    .dataframe tbody tr th:only-of-type {\n",
       "        vertical-align: middle;\n",
       "    }\n",
       "\n",
       "    .dataframe tbody tr th {\n",
       "        vertical-align: top;\n",
       "    }\n",
       "\n",
       "    .dataframe thead th {\n",
       "        text-align: right;\n",
       "    }\n",
       "</style>\n",
       "<table border=\"1\" class=\"dataframe\">\n",
       "  <thead>\n",
       "    <tr style=\"text-align: right;\">\n",
       "      <th></th>\n",
       "      <th>Material</th>\n",
       "      <th>Value</th>\n",
       "      <th>Spell</th>\n",
       "      <th>Consumed?</th>\n",
       "      <th>Source</th>\n",
       "      <th>Pg.</th>\n",
       "      <th>Lvl.</th>\n",
       "      <th>Notes</th>\n",
       "      <th>School</th>\n",
       "      <th>Artificer</th>\n",
       "      <th>Bard</th>\n",
       "      <th>Cleric</th>\n",
       "      <th>Druid</th>\n",
       "      <th>Paladin</th>\n",
       "      <th>Ranger</th>\n",
       "      <th>Sorcerer</th>\n",
       "      <th>Warlock</th>\n",
       "      <th>Wizard</th>\n",
       "    </tr>\n",
       "  </thead>\n",
       "  <tbody>\n",
       "    <tr>\n",
       "      <th>0</th>\n",
       "      <td>-If you find this spreadsheet valuable, I hope...</td>\n",
       "      <td>-Items in orange and italic are suggested pric...</td>\n",
       "      <td>-You seem like a person who likes materials. I...</td>\n",
       "      <td>NaN</td>\n",
       "      <td>-</td>\n",
       "      <td>-</td>\n",
       "      <td>-1.0</td>\n",
       "      <td>-If you have any suggestions, feel free to add...</td>\n",
       "      <td>-1</td>\n",
       "      <td>NaN</td>\n",
       "      <td>NaN</td>\n",
       "      <td>NaN</td>\n",
       "      <td>NaN</td>\n",
       "      <td>NaN</td>\n",
       "      <td>NaN</td>\n",
       "      <td>NaN</td>\n",
       "      <td>NaN</td>\n",
       "      <td>NaN</td>\n",
       "    </tr>\n",
       "    <tr>\n",
       "      <th>1</th>\n",
       "      <td>[An Item Distasteful to the Target]</td>\n",
       "      <td>-</td>\n",
       "      <td>Banishment</td>\n",
       "      <td>N</td>\n",
       "      <td>PHB</td>\n",
       "      <td>217</td>\n",
       "      <td>4.0</td>\n",
       "      <td>Obviously, this is highly variable.</td>\n",
       "      <td>Abjuration</td>\n",
       "      <td>False</td>\n",
       "      <td>False</td>\n",
       "      <td>True</td>\n",
       "      <td>False</td>\n",
       "      <td>True</td>\n",
       "      <td>False</td>\n",
       "      <td>True</td>\n",
       "      <td>True</td>\n",
       "      <td>True</td>\n",
       "    </tr>\n",
       "    <tr>\n",
       "      <th>2</th>\n",
       "      <td>Adamantine, small piece</td>\n",
       "      <td>500 gp</td>\n",
       "      <td>Invulnerability</td>\n",
       "      <td>Y</td>\n",
       "      <td>XGtE</td>\n",
       "      <td>160</td>\n",
       "      <td>9.0</td>\n",
       "      <td>NaN</td>\n",
       "      <td>Illusion</td>\n",
       "      <td>False</td>\n",
       "      <td>True</td>\n",
       "      <td>False</td>\n",
       "      <td>False</td>\n",
       "      <td>False</td>\n",
       "      <td>False</td>\n",
       "      <td>False</td>\n",
       "      <td>True</td>\n",
       "      <td>True</td>\n",
       "    </tr>\n",
       "    <tr>\n",
       "      <th>3</th>\n",
       "      <td>Adder's stomach</td>\n",
       "      <td>8 gp (suggested)</td>\n",
       "      <td>Melf's Acid Arrow</td>\n",
       "      <td>N</td>\n",
       "      <td>PHB</td>\n",
       "      <td>259</td>\n",
       "      <td>2.0</td>\n",
       "      <td>NaN</td>\n",
       "      <td>Evocation</td>\n",
       "      <td>False</td>\n",
       "      <td>False</td>\n",
       "      <td>False</td>\n",
       "      <td>False</td>\n",
       "      <td>False</td>\n",
       "      <td>False</td>\n",
       "      <td>False</td>\n",
       "      <td>False</td>\n",
       "      <td>True</td>\n",
       "    </tr>\n",
       "    <tr>\n",
       "      <th>4</th>\n",
       "      <td>Agate</td>\n",
       "      <td>1,000 gp</td>\n",
       "      <td>Awaken</td>\n",
       "      <td>Y</td>\n",
       "      <td>PHB</td>\n",
       "      <td>216</td>\n",
       "      <td>5.0</td>\n",
       "      <td>NaN</td>\n",
       "      <td>Transmutation</td>\n",
       "      <td>False</td>\n",
       "      <td>True</td>\n",
       "      <td>False</td>\n",
       "      <td>True</td>\n",
       "      <td>False</td>\n",
       "      <td>False</td>\n",
       "      <td>False</td>\n",
       "      <td>False</td>\n",
       "      <td>False</td>\n",
       "    </tr>\n",
       "    <tr>\n",
       "      <th>...</th>\n",
       "      <td>...</td>\n",
       "      <td>...</td>\n",
       "      <td>...</td>\n",
       "      <td>...</td>\n",
       "      <td>...</td>\n",
       "      <td>...</td>\n",
       "      <td>...</td>\n",
       "      <td>...</td>\n",
       "      <td>...</td>\n",
       "      <td>...</td>\n",
       "      <td>...</td>\n",
       "      <td>...</td>\n",
       "      <td>...</td>\n",
       "      <td>...</td>\n",
       "      <td>...</td>\n",
       "      <td>...</td>\n",
       "      <td>...</td>\n",
       "      <td>...</td>\n",
       "    </tr>\n",
       "    <tr>\n",
       "      <th>356</th>\n",
       "      <td>Wisp of Smoke</td>\n",
       "      <td>-</td>\n",
       "      <td>Gaseous Form</td>\n",
       "      <td>Y</td>\n",
       "      <td>PHB</td>\n",
       "      <td>244</td>\n",
       "      <td>3.0</td>\n",
       "      <td>NaN</td>\n",
       "      <td>Transmutation</td>\n",
       "      <td>False</td>\n",
       "      <td>False</td>\n",
       "      <td>False</td>\n",
       "      <td>False</td>\n",
       "      <td>False</td>\n",
       "      <td>False</td>\n",
       "      <td>True</td>\n",
       "      <td>True</td>\n",
       "      <td>True</td>\n",
       "    </tr>\n",
       "    <tr>\n",
       "      <th>357</th>\n",
       "      <td>Wisp of Smoke</td>\n",
       "      <td>-</td>\n",
       "      <td>True Polymorph</td>\n",
       "      <td>Y</td>\n",
       "      <td>PHB</td>\n",
       "      <td>266</td>\n",
       "      <td>9.0</td>\n",
       "      <td>NaN</td>\n",
       "      <td>Transmutation</td>\n",
       "      <td>False</td>\n",
       "      <td>True</td>\n",
       "      <td>False</td>\n",
       "      <td>False</td>\n",
       "      <td>False</td>\n",
       "      <td>False</td>\n",
       "      <td>False</td>\n",
       "      <td>True</td>\n",
       "      <td>True</td>\n",
       "    </tr>\n",
       "    <tr>\n",
       "      <th>358</th>\n",
       "      <td>Wood</td>\n",
       "      <td>1 sp (suggested)</td>\n",
       "      <td>Unseen Servant</td>\n",
       "      <td>N</td>\n",
       "      <td>PHB</td>\n",
       "      <td>284</td>\n",
       "      <td>1.0</td>\n",
       "      <td>NaN</td>\n",
       "      <td>Conjuration</td>\n",
       "      <td>False</td>\n",
       "      <td>True</td>\n",
       "      <td>False</td>\n",
       "      <td>False</td>\n",
       "      <td>False</td>\n",
       "      <td>False</td>\n",
       "      <td>False</td>\n",
       "      <td>True</td>\n",
       "      <td>True</td>\n",
       "    </tr>\n",
       "    <tr>\n",
       "      <th>359</th>\n",
       "      <td>Wychwood</td>\n",
       "      <td>5 gp (suggested)</td>\n",
       "      <td>Dancing Lights</td>\n",
       "      <td>N</td>\n",
       "      <td>PHB</td>\n",
       "      <td>230</td>\n",
       "      <td>0.0</td>\n",
       "      <td>NaN</td>\n",
       "      <td>Evocation</td>\n",
       "      <td>True</td>\n",
       "      <td>True</td>\n",
       "      <td>False</td>\n",
       "      <td>False</td>\n",
       "      <td>False</td>\n",
       "      <td>False</td>\n",
       "      <td>True</td>\n",
       "      <td>False</td>\n",
       "      <td>True</td>\n",
       "    </tr>\n",
       "    <tr>\n",
       "      <th>360</th>\n",
       "      <td>Yew Leaf</td>\n",
       "      <td>1 gp (suggested)</td>\n",
       "      <td>Detect Poison and Disease</td>\n",
       "      <td>N</td>\n",
       "      <td>PHB</td>\n",
       "      <td>231</td>\n",
       "      <td>1.0</td>\n",
       "      <td>\"The yew tree is deadly poisonous.\" (Thanks, R...</td>\n",
       "      <td>Divination</td>\n",
       "      <td>False</td>\n",
       "      <td>False</td>\n",
       "      <td>True</td>\n",
       "      <td>True</td>\n",
       "      <td>True</td>\n",
       "      <td>True</td>\n",
       "      <td>False</td>\n",
       "      <td>False</td>\n",
       "      <td>False</td>\n",
       "    </tr>\n",
       "  </tbody>\n",
       "</table>\n",
       "<p>361 rows × 18 columns</p>\n",
       "</div>"
      ],
      "text/plain": [
       "                                              Material  \\\n",
       "0    -If you find this spreadsheet valuable, I hope...   \n",
       "1                  [An Item Distasteful to the Target]   \n",
       "2                              Adamantine, small piece   \n",
       "3                                      Adder's stomach   \n",
       "4                                                Agate   \n",
       "..                                                 ...   \n",
       "356                                      Wisp of Smoke   \n",
       "357                                      Wisp of Smoke   \n",
       "358                                               Wood   \n",
       "359                                           Wychwood   \n",
       "360                                           Yew Leaf   \n",
       "\n",
       "                                                 Value  \\\n",
       "0    -Items in orange and italic are suggested pric...   \n",
       "1                                                    -   \n",
       "2                                               500 gp   \n",
       "3                                     8 gp (suggested)   \n",
       "4                                             1,000 gp   \n",
       "..                                                 ...   \n",
       "356                                                  -   \n",
       "357                                                  -   \n",
       "358                                   1 sp (suggested)   \n",
       "359                                   5 gp (suggested)   \n",
       "360                                   1 gp (suggested)   \n",
       "\n",
       "                                                 Spell Consumed? Source  Pg.  \\\n",
       "0    -You seem like a person who likes materials. I...       NaN      -    -   \n",
       "1                                           Banishment         N    PHB  217   \n",
       "2                                      Invulnerability         Y   XGtE  160   \n",
       "3                                    Melf's Acid Arrow         N    PHB  259   \n",
       "4                                               Awaken         Y    PHB  216   \n",
       "..                                                 ...       ...    ...  ...   \n",
       "356                                       Gaseous Form         Y    PHB  244   \n",
       "357                                     True Polymorph         Y    PHB  266   \n",
       "358                                     Unseen Servant         N    PHB  284   \n",
       "359                                     Dancing Lights         N    PHB  230   \n",
       "360                          Detect Poison and Disease         N    PHB  231   \n",
       "\n",
       "     Lvl.                                              Notes         School  \\\n",
       "0    -1.0  -If you have any suggestions, feel free to add...             -1   \n",
       "1     4.0                Obviously, this is highly variable.     Abjuration   \n",
       "2     9.0                                                NaN       Illusion   \n",
       "3     2.0                                                NaN      Evocation   \n",
       "4     5.0                                                NaN  Transmutation   \n",
       "..    ...                                                ...            ...   \n",
       "356   3.0                                                NaN  Transmutation   \n",
       "357   9.0                                                NaN  Transmutation   \n",
       "358   1.0                                                NaN    Conjuration   \n",
       "359   0.0                                                NaN      Evocation   \n",
       "360   1.0  \"The yew tree is deadly poisonous.\" (Thanks, R...     Divination   \n",
       "\n",
       "    Artificer   Bard Cleric  Druid Paladin Ranger Sorcerer Warlock Wizard  \n",
       "0         NaN    NaN    NaN    NaN     NaN    NaN      NaN     NaN    NaN  \n",
       "1       False  False   True  False    True  False     True    True   True  \n",
       "2       False   True  False  False   False  False    False    True   True  \n",
       "3       False  False  False  False   False  False    False   False   True  \n",
       "4       False   True  False   True   False  False    False   False  False  \n",
       "..        ...    ...    ...    ...     ...    ...      ...     ...    ...  \n",
       "356     False  False  False  False   False  False     True    True   True  \n",
       "357     False   True  False  False   False  False    False    True   True  \n",
       "358     False   True  False  False   False  False    False    True   True  \n",
       "359      True   True  False  False   False  False     True   False   True  \n",
       "360     False  False   True   True    True   True    False   False  False  \n",
       "\n",
       "[361 rows x 18 columns]"
      ]
     },
     "execution_count": 21,
     "metadata": {},
     "output_type": "execute_result"
    }
   ],
   "source": [
    "df = pd.read_csv('data/spell_components.csv')\n",
    "df"
   ]
  },
  {
   "cell_type": "code",
   "execution_count": 34,
   "metadata": {},
   "outputs": [],
   "source": [
    "components = list(df['Material'][2:361].drop_duplicates().str.lower())\n",
    "# components"
   ]
  },
  {
   "cell_type": "markdown",
   "metadata": {},
   "source": [
    "# Smaller Functions\n",
    "\n",
    "## `spell_name()` Function\n",
    "\n",
    "Most basic version of spell generation. These funny titles are intended to serve as a jumping off point for creation."
   ]
  },
  {
   "cell_type": "code",
   "execution_count": 9,
   "metadata": {},
   "outputs": [],
   "source": [
    "def spell_name():\n",
    "    rand_school = nrc(schools)\n",
    "    rand_dmg = nrc(damage_types)\n",
    "    rand_part = nrc(body_parts)\n",
    "    name = f\"{rand_school} Spell: {rand_part} Of {rand_dmg}\".title()\n",
    "    return name"
   ]
  },
  {
   "cell_type": "markdown",
   "metadata": {},
   "source": [
    "And some examples."
   ]
  },
  {
   "cell_type": "code",
   "execution_count": 50,
   "metadata": {},
   "outputs": [
    {
     "data": {
      "text/plain": [
       "'Illusion Spell: Jowels Of Psychic'"
      ]
     },
     "execution_count": 50,
     "metadata": {},
     "output_type": "execute_result"
    }
   ],
   "source": [
    "spell_name()"
   ]
  },
  {
   "cell_type": "code",
   "execution_count": 53,
   "metadata": {},
   "outputs": [
    {
     "data": {
      "text/plain": [
       "'Divination Spell: Kneecap Of Force'"
      ]
     },
     "execution_count": 53,
     "metadata": {},
     "output_type": "execute_result"
    }
   ],
   "source": [
    "spell_name()"
   ]
  },
  {
   "cell_type": "code",
   "execution_count": 54,
   "metadata": {},
   "outputs": [
    {
     "data": {
      "text/plain": [
       "'Evocation Spell: Bowels Of Bludgeoning'"
      ]
     },
     "execution_count": 54,
     "metadata": {},
     "output_type": "execute_result"
    }
   ],
   "source": [
    "spell_name()"
   ]
  },
  {
   "cell_type": "markdown",
   "metadata": {},
   "source": [
    "## `jumble_name()` Function\n",
    "\n",
    "This function creates weirder names, sometimes nonsensical. Intended to do the same as above, but with less logic to it."
   ]
  },
  {
   "cell_type": "code",
   "execution_count": 10,
   "metadata": {},
   "outputs": [],
   "source": [
    "def jumble_name():\n",
    "    rand_school = nrc(schools)\n",
    "    rand_dmg = nrc(damage_types)\n",
    "    rand_part = nrc(body_parts)\n",
    "    filler = np.random.permutation([rand_school, rand_dmg, rand_part])\n",
    "    name = (\"%s %s of %s\" % (filler[0], filler[1], filler[2])).title()\n",
    "    return name"
   ]
  },
  {
   "cell_type": "markdown",
   "metadata": {},
   "source": [
    "And some examples."
   ]
  },
  {
   "cell_type": "code",
   "execution_count": 37,
   "metadata": {},
   "outputs": [
    {
     "data": {
      "text/plain": [
       "'Chin Wind Of Evocation'"
      ]
     },
     "execution_count": 37,
     "metadata": {},
     "output_type": "execute_result"
    }
   ],
   "source": [
    "jumble_name()"
   ]
  },
  {
   "cell_type": "code",
   "execution_count": 48,
   "metadata": {},
   "outputs": [
    {
     "data": {
      "text/plain": [
       "'Lightning Skeleton Of Enchantment'"
      ]
     },
     "execution_count": 48,
     "metadata": {},
     "output_type": "execute_result"
    }
   ],
   "source": [
    "jumble_name()"
   ]
  },
  {
   "cell_type": "code",
   "execution_count": 50,
   "metadata": {},
   "outputs": [
    {
     "data": {
      "text/plain": [
       "'Abjuration Arm Of Earth'"
      ]
     },
     "execution_count": 50,
     "metadata": {},
     "output_type": "execute_result"
    }
   ],
   "source": [
    "jumble_name()"
   ]
  },
  {
   "cell_type": "code",
   "execution_count": 63,
   "metadata": {},
   "outputs": [
    {
     "data": {
      "text/plain": [
       "'Force Psionics Of Beard'"
      ]
     },
     "execution_count": 63,
     "metadata": {},
     "output_type": "execute_result"
    }
   ],
   "source": [
    "jumble_name()"
   ]
  },
  {
   "cell_type": "code",
   "execution_count": 67,
   "metadata": {},
   "outputs": [
    {
     "data": {
      "text/plain": [
       "'Radiant Illusion Of Molars'"
      ]
     },
     "execution_count": 67,
     "metadata": {},
     "output_type": "execute_result"
    }
   ],
   "source": [
    "jumble_name()"
   ]
  },
  {
   "cell_type": "markdown",
   "metadata": {},
   "source": [
    "The intention here is that the new spell names given cause you to reconsider traditional game motifs. In the final example above, `'Radiant Illusion Of Molars`, we're given two words that normally come up in D&D spells--radiant and illusion.\n",
    ">One is a type of damage--radiant tends to be angelic and defeat undead, demons, and the like--and the other is a school of magic--illusions, fake images and sounds, etc.\n",
    "\n",
    "But now it's like... A spell where I create the illusion that I have really *radiant* teeth? *Shiny* chompers? How can I invent a usage for that in an RPG?"
   ]
  },
  {
   "cell_type": "markdown",
   "metadata": {},
   "source": [
    "## `simple_desc()` Function\n",
    "\n",
    "This function prints out a basic box of \"flavor text,\" i.e. the kind of thing that explains what's *going on* when the spell happens. It's the difference between knowing that the spell Fireball makes a ball of fire, and knowing that it explodes from a single point, wraps around corners, and can burn pieces of terrain, furniture, and items."
   ]
  },
  {
   "cell_type": "code",
   "execution_count": 11,
   "metadata": {},
   "outputs": [],
   "source": [
    "def simple_desc():\n",
    "    rand_dmg = nrc(damage_types)\n",
    "    rand_school = nrc(schools)\n",
    "    rand_part = nrc(body_parts)\n",
    "    rand_verb = nrc(evoc_verbs)\n",
    "    rand_shape = nrc(shapes)\n",
    "    rand_stat = nrc(stats)\n",
    "    rand_num = np.random.randint(2,30)\n",
    "    rand_dice = nrc(dice)\n",
    "    aoe = 5 * np.random.randint(1,20)\n",
    "    \n",
    "    title = f\"{rand_school} Spell: {rand_part} Of {rand_dmg}\".title()\n",
    "    body = f\"You {rand_verb} a {rand_shape} of {rand_dmg} from your {rand_part}. All creatures within {aoe}ft. of you must make a {rand_stat} saving throw or take {rand_num}{rand_dice} {rand_dmg} damage.\"\n",
    "    print(title, \"\\n\\n\", body)"
   ]
  },
  {
   "cell_type": "code",
   "execution_count": 47,
   "metadata": {},
   "outputs": [
    {
     "name": "stdout",
     "output_type": "stream",
     "text": [
      "Abjuration Spell: Bowels Of Fire \n",
      "\n",
      " You conjure a cone of fire from your bowels. All creatures within 30ft. of you must make a wisdom saving throw or take 6d6 fire damage.\n"
     ]
    }
   ],
   "source": [
    "simple_desc()"
   ]
  },
  {
   "cell_type": "code",
   "execution_count": 48,
   "metadata": {},
   "outputs": [
    {
     "name": "stdout",
     "output_type": "stream",
     "text": [
      "Psionics Spell: Spleen Of Wind \n",
      "\n",
      " You call forth a ring of wind from your spleen. All creatures within 85ft. of you must make a strength saving throw or take 3d20 wind damage.\n"
     ]
    }
   ],
   "source": [
    "simple_desc()"
   ]
  },
  {
   "cell_type": "code",
   "execution_count": 50,
   "metadata": {},
   "outputs": [
    {
     "name": "stdout",
     "output_type": "stream",
     "text": [
      "Divination Spell: Beard Of Force \n",
      "\n",
      " You evoke a beam of force from your beard. All creatures within 75ft. of you must make a constitution saving throw or take 26d6 force damage.\n"
     ]
    }
   ],
   "source": [
    "simple_desc()"
   ]
  },
  {
   "cell_type": "markdown",
   "metadata": {},
   "source": [
    "## `trasmutation()` Function"
   ]
  },
  {
   "cell_type": "code",
   "execution_count": 41,
   "metadata": {},
   "outputs": [],
   "source": [
    "def transmutation():\n",
    "    trans_verb = nrc(trans_verbs)\n",
    "    thing_1 = nrc(components)\n",
    "    thing_2 = nrc(components)\n",
    "    print(f\"You {trans_verb} a {thing_1} into a {thing_2}.\")"
   ]
  },
  {
   "cell_type": "code",
   "execution_count": 50,
   "metadata": {},
   "outputs": [
    {
     "name": "stdout",
     "output_type": "stream",
     "text": [
      "You turn a pickled octopus tentacle into a shamrock.\n"
     ]
    }
   ],
   "source": [
    "transmutation()"
   ]
  },
  {
   "cell_type": "code",
   "execution_count": 52,
   "metadata": {},
   "outputs": [
    {
     "name": "stdout",
     "output_type": "stream",
     "text": [
      "You transmute a sponge into a pearl.\n"
     ]
    }
   ],
   "source": [
    "transmutation()"
   ]
  },
  {
   "cell_type": "code",
   "execution_count": 57,
   "metadata": {},
   "outputs": [
    {
     "name": "stdout",
     "output_type": "stream",
     "text": [
      "You turn a clay pot of brackish water into a statue of the caster, carved from ivory and decorated with gems.\n"
     ]
    }
   ],
   "source": [
    "transmutation()"
   ]
  }
 ],
 "metadata": {
  "kernelspec": {
   "display_name": "Python 3",
   "language": "python",
   "name": "python3"
  },
  "language_info": {
   "codemirror_mode": {
    "name": "ipython",
    "version": 3
   },
   "file_extension": ".py",
   "mimetype": "text/x-python",
   "name": "python",
   "nbconvert_exporter": "python",
   "pygments_lexer": "ipython3",
   "version": "3.7.6"
  },
  "toc": {
   "base_numbering": 1,
   "nav_menu": {},
   "number_sections": true,
   "sideBar": true,
   "skip_h1_title": false,
   "title_cell": "Table of Contents",
   "title_sidebar": "Contents",
   "toc_cell": false,
   "toc_position": {},
   "toc_section_display": true,
   "toc_window_display": false
  },
  "varInspector": {
   "cols": {
    "lenName": 16,
    "lenType": 16,
    "lenVar": 40
   },
   "kernels_config": {
    "python": {
     "delete_cmd_postfix": "",
     "delete_cmd_prefix": "del ",
     "library": "var_list.py",
     "varRefreshCmd": "print(var_dic_list())"
    },
    "r": {
     "delete_cmd_postfix": ") ",
     "delete_cmd_prefix": "rm(",
     "library": "var_list.r",
     "varRefreshCmd": "cat(var_dic_list()) "
    }
   },
   "types_to_exclude": [
    "module",
    "function",
    "builtin_function_or_method",
    "instance",
    "_Feature"
   ],
   "window_display": false
  }
 },
 "nbformat": 4,
 "nbformat_minor": 2
}
