{
 "cells": [
  {
   "cell_type": "markdown",
   "metadata": {},
   "source": [
    "# Intro"
   ]
  },
  {
   "cell_type": "markdown",
   "metadata": {},
   "source": [
    "***Notebook in progress.***\n",
    "\n",
    "This notebook creates some basic functions for generating weird spells for Dungeons and Dragons. The basic functions build throughout the notebook to a larger generator with much more modularity at the end."
   ]
  },
  {
   "cell_type": "markdown",
   "metadata": {},
   "source": [
    "## Imports"
   ]
  },
  {
   "cell_type": "code",
   "execution_count": 4,
   "metadata": {},
   "outputs": [],
   "source": [
    "import numpy as np\n",
    "from numpy.random import choice as nrc"
   ]
  },
  {
   "cell_type": "markdown",
   "metadata": {},
   "source": [
    "# Making Things Up"
   ]
  },
  {
   "cell_type": "markdown",
   "metadata": {},
   "source": [
    "Here we make some lists of stuff to randomly pull from. Schools of magic, types of damage, different fun groups of words to generate from, etc."
   ]
  },
  {
   "cell_type": "code",
   "execution_count": 5,
   "metadata": {},
   "outputs": [],
   "source": [
    "schools = ['abjuration', 'conjuration', 'divination', 'enchantment',\n",
    "           'evocation', 'illusion', 'necromancy', 'psionics', 'transmutation']"
   ]
  },
  {
   "cell_type": "code",
   "execution_count": 6,
   "metadata": {},
   "outputs": [],
   "source": [
    "# The damage types ['earth', 'water', 'wind'] are used in my home game\n",
    "# and have been added to this list.\n",
    "\n",
    "damage_types = ['acid', 'bludgeoning', 'cold', 'earth', 'fire', 'force',\n",
    "                'lightning', 'necrotic', 'piercing', 'poison', 'psychic',\n",
    "                'radiant', 'slashing', 'thunder', 'water', 'wind']"
   ]
  },
  {
   "cell_type": "code",
   "execution_count": 7,
   "metadata": {},
   "outputs": [],
   "source": [
    "body_parts = ['ankle', 'arm', 'artery', 'beard', 'belly', 'body', 'bone',\n",
    "              'bowels', 'brain', 'bladder', 'chin', 'calf', 'chest',\n",
    "              'cheek', 'clavicle', 'ear', 'eye', 'eyebrow', 'eyelid',\n",
    "              'face', 'finger', 'fingernail', 'foot', 'groin', 'gums',\n",
    "              'hair', 'hand', 'head', 'heart', 'horns', 'iris', 'intestines',\n",
    "              'jaw', 'jowels', 'kneecap', 'leg', 'liver', 'lungs',\n",
    "              'lymph node', 'molars', 'mouth', 'muscle', 'ovary', 'palm',\n",
    "              'pelvis', 'red blood cells', 'retina', 'ribs',\n",
    "              'scalp', 'shin', 'skeleton', 'skull', 'spine', 'spleen',\n",
    "              'stomach', 'teeth', 'thorax', 'throat', 'tongue', 'tonsils',\n",
    "              'uterus', 'white blood cells']"
   ]
  },
  {
   "cell_type": "code",
   "execution_count": 39,
   "metadata": {},
   "outputs": [],
   "source": [
    "stats = ['charisma', 'constitution', 'dexterity', 'intelligence', 'strength',\n",
    "         'wisdom']"
   ]
  },
  {
   "cell_type": "code",
   "execution_count": 9,
   "metadata": {},
   "outputs": [],
   "source": [
    "shapes = ['ball', 'beam', 'cone', 'cube', 'cylinder', 'disc', 'donut',\n",
    "          'line', 'ray', 'ring', 'sphere', 'wall']"
   ]
  },
  {
   "cell_type": "code",
   "execution_count": 10,
   "metadata": {},
   "outputs": [],
   "source": [
    "verbs = ['call forth', 'conjure', 'create', 'demand', 'evoke', 'summon']"
   ]
  },
  {
   "cell_type": "code",
   "execution_count": 40,
   "metadata": {},
   "outputs": [],
   "source": [
    "dice = ['d4', 'd6', 'd8', 'd10', 'd12', 'd20']"
   ]
  },
  {
   "cell_type": "markdown",
   "metadata": {},
   "source": [
    "# Smaller Functions\n",
    "\n",
    "## `spell_name()` Function\n",
    "\n",
    "Most basic version of spell generation. These funny titles are intended to serve as a jumping off point for creation."
   ]
  },
  {
   "cell_type": "code",
   "execution_count": 5,
   "metadata": {},
   "outputs": [],
   "source": [
    "def spell_name():\n",
    "    rand_school = nrc(schools)\n",
    "    rand_dmg = nrc(damage_types)\n",
    "    rand_part = nrc(body_parts)\n",
    "    name = f\"{rand_school} Spell: {rand_part} Of {rand_dmg}\".title()\n",
    "    return name"
   ]
  },
  {
   "cell_type": "markdown",
   "metadata": {},
   "source": [
    "And some examples."
   ]
  },
  {
   "cell_type": "code",
   "execution_count": 50,
   "metadata": {},
   "outputs": [
    {
     "data": {
      "text/plain": [
       "'Illusion Spell: Jowels Of Psychic'"
      ]
     },
     "execution_count": 50,
     "metadata": {},
     "output_type": "execute_result"
    }
   ],
   "source": [
    "spell_name()"
   ]
  },
  {
   "cell_type": "code",
   "execution_count": 53,
   "metadata": {},
   "outputs": [
    {
     "data": {
      "text/plain": [
       "'Divination Spell: Kneecap Of Force'"
      ]
     },
     "execution_count": 53,
     "metadata": {},
     "output_type": "execute_result"
    }
   ],
   "source": [
    "spell_name()"
   ]
  },
  {
   "cell_type": "code",
   "execution_count": 54,
   "metadata": {},
   "outputs": [
    {
     "data": {
      "text/plain": [
       "'Evocation Spell: Bowels Of Bludgeoning'"
      ]
     },
     "execution_count": 54,
     "metadata": {},
     "output_type": "execute_result"
    }
   ],
   "source": [
    "spell_name()"
   ]
  },
  {
   "cell_type": "markdown",
   "metadata": {},
   "source": [
    "# `jumble_name()` Function\n",
    "\n",
    "This function creates weirder names, sometimes nonsensical. Intended to do the same as above, but with less logic to it."
   ]
  },
  {
   "cell_type": "code",
   "execution_count": 41,
   "metadata": {},
   "outputs": [],
   "source": [
    "def jumble_name():\n",
    "    rand_school = nrc(schools)\n",
    "    rand_dmg = nrc(damage_types)\n",
    "    rand_part = nrc(body_parts)\n",
    "    filler = np.random.permutation([rand_school, rand_dmg, rand_part])\n",
    "    name = (\"%s %s of %s\" % (filler[0], filler[1], filler[2])).title()\n",
    "    return name"
   ]
  },
  {
   "cell_type": "markdown",
   "metadata": {},
   "source": [
    "And some examples."
   ]
  },
  {
   "cell_type": "code",
   "execution_count": 37,
   "metadata": {},
   "outputs": [
    {
     "data": {
      "text/plain": [
       "'Chin Wind Of Evocation'"
      ]
     },
     "execution_count": 37,
     "metadata": {},
     "output_type": "execute_result"
    }
   ],
   "source": [
    "jumble_name()"
   ]
  },
  {
   "cell_type": "code",
   "execution_count": 48,
   "metadata": {},
   "outputs": [
    {
     "data": {
      "text/plain": [
       "'Lightning Skeleton Of Enchantment'"
      ]
     },
     "execution_count": 48,
     "metadata": {},
     "output_type": "execute_result"
    }
   ],
   "source": [
    "jumble_name()"
   ]
  },
  {
   "cell_type": "code",
   "execution_count": 50,
   "metadata": {},
   "outputs": [
    {
     "data": {
      "text/plain": [
       "'Abjuration Arm Of Earth'"
      ]
     },
     "execution_count": 50,
     "metadata": {},
     "output_type": "execute_result"
    }
   ],
   "source": [
    "jumble_name()"
   ]
  },
  {
   "cell_type": "code",
   "execution_count": 63,
   "metadata": {},
   "outputs": [
    {
     "data": {
      "text/plain": [
       "'Force Psionics Of Beard'"
      ]
     },
     "execution_count": 63,
     "metadata": {},
     "output_type": "execute_result"
    }
   ],
   "source": [
    "jumble_name()"
   ]
  },
  {
   "cell_type": "code",
   "execution_count": 67,
   "metadata": {},
   "outputs": [
    {
     "data": {
      "text/plain": [
       "'Radiant Illusion Of Molars'"
      ]
     },
     "execution_count": 67,
     "metadata": {},
     "output_type": "execute_result"
    }
   ],
   "source": [
    "jumble_name()"
   ]
  },
  {
   "cell_type": "markdown",
   "metadata": {},
   "source": [
    "The intention here is that the new spell names given cause you to reconsider traditional game motifs. In the final example above, `'Radiant Illusion Of Molars`, we're given two words that normally come up in D&D spells--radiant and illusion.\n",
    ">One is a type of damage--radiant tends to be angelic and defeat undead, demons, and the like--and the other is a school of magic--illusions, fake images and sounds, etc.\n",
    "\n",
    "But now it's like... A spell where I create the illusion that I have really *radiant* teeth? *Shiny* chompers? How can I invent a usage for that in an RPG?"
   ]
  },
  {
   "cell_type": "markdown",
   "metadata": {},
   "source": [
    "## `simple_desc()` Function\n",
    "\n",
    "This function prints out a basic box of \"flavor text,\" i.e. the kind of thing that explains what's *going on* when the spell happens. It's the difference between knowing that the spell Fireball makes a ball of fire, and knowing that it explodes from a single point, wraps around corners, and can burn pieces of terrain, furniture, and items."
   ]
  },
  {
   "cell_type": "code",
   "execution_count": 46,
   "metadata": {},
   "outputs": [],
   "source": [
    "def simple_desc():\n",
    "    rand_dmg = nrc(damage_types)\n",
    "    rand_school = nrc(schools)\n",
    "    rand_part = nrc(body_parts)\n",
    "    rand_verb = nrc(verbs)\n",
    "    rand_shape = nrc(shapes)\n",
    "    rand_stat = nrc(stats)\n",
    "    rand_num = np.random.randint(2,30)\n",
    "    rand_dice = nrc(dice)\n",
    "    aoe = 5 * np.random.randint(1,20)\n",
    "    \n",
    "    title = f\"{rand_school} Spell: {rand_part} Of {rand_dmg}\".title()\n",
    "    body = f\"You {rand_verb} a {rand_shape} of {rand_dmg} from your {rand_part}. All creatures within {aoe}ft. of you must make a {rand_stat} saving throw or take {rand_num}{rand_dice} {rand_dmg} damage.\"\n",
    "    print(title, \"\\n\\n\", body)"
   ]
  },
  {
   "cell_type": "code",
   "execution_count": 47,
   "metadata": {},
   "outputs": [
    {
     "name": "stdout",
     "output_type": "stream",
     "text": [
      "Abjuration Spell: Bowels Of Fire \n",
      "\n",
      " You conjure a cone of fire from your bowels. All creatures within 30ft. of you must make a wisdom saving throw or take 6d6 fire damage.\n"
     ]
    }
   ],
   "source": [
    "simple_desc()"
   ]
  },
  {
   "cell_type": "code",
   "execution_count": 48,
   "metadata": {},
   "outputs": [
    {
     "name": "stdout",
     "output_type": "stream",
     "text": [
      "Psionics Spell: Spleen Of Wind \n",
      "\n",
      " You call forth a ring of wind from your spleen. All creatures within 85ft. of you must make a strength saving throw or take 3d20 wind damage.\n"
     ]
    }
   ],
   "source": [
    "simple_desc()"
   ]
  },
  {
   "cell_type": "code",
   "execution_count": 50,
   "metadata": {},
   "outputs": [
    {
     "name": "stdout",
     "output_type": "stream",
     "text": [
      "Divination Spell: Beard Of Force \n",
      "\n",
      " You evoke a beam of force from your beard. All creatures within 75ft. of you must make a constitution saving throw or take 26d6 force damage.\n"
     ]
    }
   ],
   "source": [
    "simple_desc()"
   ]
  }
 ],
 "metadata": {
  "kernelspec": {
   "display_name": "Python [conda env:learn-env] *",
   "language": "python",
   "name": "conda-env-learn-env-py"
  },
  "language_info": {
   "codemirror_mode": {
    "name": "ipython",
    "version": 3
   },
   "file_extension": ".py",
   "mimetype": "text/x-python",
   "name": "python",
   "nbconvert_exporter": "python",
   "pygments_lexer": "ipython3",
   "version": "3.6.9"
  },
  "toc": {
   "base_numbering": 1,
   "nav_menu": {},
   "number_sections": true,
   "sideBar": true,
   "skip_h1_title": false,
   "title_cell": "Table of Contents",
   "title_sidebar": "Contents",
   "toc_cell": false,
   "toc_position": {},
   "toc_section_display": true,
   "toc_window_display": false
  },
  "varInspector": {
   "cols": {
    "lenName": 16,
    "lenType": 16,
    "lenVar": 40
   },
   "kernels_config": {
    "python": {
     "delete_cmd_postfix": "",
     "delete_cmd_prefix": "del ",
     "library": "var_list.py",
     "varRefreshCmd": "print(var_dic_list())"
    },
    "r": {
     "delete_cmd_postfix": ") ",
     "delete_cmd_prefix": "rm(",
     "library": "var_list.r",
     "varRefreshCmd": "cat(var_dic_list()) "
    }
   },
   "types_to_exclude": [
    "module",
    "function",
    "builtin_function_or_method",
    "instance",
    "_Feature"
   ],
   "window_display": false
  }
 },
 "nbformat": 4,
 "nbformat_minor": 2
}
